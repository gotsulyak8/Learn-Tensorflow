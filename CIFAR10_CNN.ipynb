{
  "nbformat": 4,
  "nbformat_minor": 0,
  "metadata": {
    "colab": {
      "name": "CIFAR-10_Improved.ipynb",
      "provenance": []
    },
    "kernelspec": {
      "name": "python3",
      "display_name": "Python 3"
    },
    "accelerator": "GPU"
  },
  "cells": [
    {
      "cell_type": "code",
      "metadata": {
        "id": "VXHSCDvzy6x3",
        "colab_type": "code",
        "outputId": "2cfddf0b-f6cd-4a44-915d-febc99fe9c0c",
        "colab": {
          "base_uri": "https://localhost:8080/",
          "height": 34
        }
      },
      "source": [
        "import tensorflow as tf\n",
        "print(tf.__version__)"
      ],
      "execution_count": 4,
      "outputs": [
        {
          "output_type": "stream",
          "text": [
            "2.2.0\n"
          ],
          "name": "stdout"
        }
      ]
    },
    {
      "cell_type": "code",
      "metadata": {
        "id": "htA5j9VMzJcF",
        "colab_type": "code",
        "colab": {}
      },
      "source": [
        "import numpy as np\n",
        "import matplotlib.pyplot as plt\n",
        "from tensorflow.keras.layers import Input, Conv2D, Dense, Flatten, Dropout, GlobalMaxPooling2D, MaxPooling2D, BatchNormalization\n",
        "from tensorflow.keras.models import Model"
      ],
      "execution_count": 0,
      "outputs": []
    },
    {
      "cell_type": "code",
      "metadata": {
        "id": "bmsPU26tzJ7o",
        "colab_type": "code",
        "outputId": "00592c52-9a6b-46cc-f92d-983d4d73bfe8",
        "colab": {
          "base_uri": "https://localhost:8080/",
          "height": 86
        }
      },
      "source": [
        "cifar10 = tf.keras.datasets.cifar10\n",
        "\n",
        "(x_train, y_train), (x_test, y_test) = cifar10.load_data()\n",
        "x_train, x_test = x_train / 255.0, x_test / 255.0\n",
        "y_train, y_test = y_train.flatten(), y_test.flatten()\n",
        "print('x_train.shape:', x_train.shape)\n",
        "print('y_train.shape:', y_train.shape)"
      ],
      "execution_count": 6,
      "outputs": [
        {
          "output_type": "stream",
          "text": [
            "Downloading data from https://www.cs.toronto.edu/~kriz/cifar-10-python.tar.gz\n",
            "170500096/170498071 [==============================] - 6s 0us/step\n",
            "x_train.shape: (50000, 32, 32, 3)\n",
            "y_train.shape: (50000,)\n"
          ],
          "name": "stdout"
        }
      ]
    },
    {
      "cell_type": "code",
      "metadata": {
        "id": "Ew4xz_2MzKAn",
        "colab_type": "code",
        "outputId": "89df1164-f91a-4838-9d3d-0fe9d90dad0d",
        "colab": {
          "base_uri": "https://localhost:8080/",
          "height": 34
        }
      },
      "source": [
        "K = len(set(y_train))\n",
        "print('number of classes:', K)"
      ],
      "execution_count": 7,
      "outputs": [
        {
          "output_type": "stream",
          "text": [
            "number of classes: 10\n"
          ],
          "name": "stdout"
        }
      ]
    },
    {
      "cell_type": "code",
      "metadata": {
        "id": "f1BBYj9nzKLZ",
        "colab_type": "code",
        "colab": {}
      },
      "source": [
        "# Building the model using the functional API\n",
        "i = Input(shape=x_train[0].shape)\n",
        "# x = Conv2D(32, (3, 3), strides=2, activation='relu')(i)\n",
        "# x = Conv2D(64, (3, 3), strides=2, activation='relu')(x)\n",
        "# x = Conv2D(128, (3, 3), strides=2, activation='relu')(x)\n",
        "x = Conv2D(32, (3, 3), activation='relu', padding='same')(i)\n",
        "x = BatchNormalization()(x)\n",
        "x = Conv2D(32, (3, 3), activation='relu', padding='same')(x)\n",
        "x = BatchNormalization()(x)\n",
        "x = MaxPooling2D((2, 2))(x)\n",
        "#  = Dropout(0.5)(x)\n",
        "x = Conv2D(64, (3, 3), activation='relu', padding='same')(x)\n",
        "x = BatchNormalization()(x)\n",
        "x = Conv2D(64, (3, 3), activation='relu', padding='same')(x)\n",
        "x = BatchNormalization()(x)\n",
        "x = MaxPooling2D((2, 2))(x)\n",
        "# x = Dropout(0.2)(x)\n",
        "x = Conv2D(128, (3, 3), activation='relu', padding='same')(x)\n",
        "x = BatchNormalization()(x)\n",
        "x = Conv2D(128, (3, 3), activation='relu', padding='same')(x)\n",
        "x = BatchNormalization()(x)\n",
        "x = MaxPooling2D((2, 2))(x)\n",
        "# x = Dropout(0.2)(x)\n",
        "\n",
        "# GlobalMaxpooling2D()(x)\n",
        "x = Flatten()(x)\n",
        "x = Dropout(0.2)(x)\n",
        "x = Dense(1024, activation='relu')(x)\n",
        "x = Dropout(0.2)(x)\n",
        "x = Dense(K, activation='softmax')(x)\n",
        "\n",
        "model = Model(i, x)"
      ],
      "execution_count": 0,
      "outputs": []
    },
    {
      "cell_type": "code",
      "metadata": {
        "id": "GvPZcqRN28YP",
        "colab_type": "code",
        "colab": {}
      },
      "source": [
        "model.compile(optimizer='adam',\n",
        "              loss='sparse_categorical_crossentropy',\n",
        "              metrics=['accuracy'])"
      ],
      "execution_count": 0,
      "outputs": []
    },
    {
      "cell_type": "code",
      "metadata": {
        "id": "E1puwQjOzJWw",
        "colab_type": "code",
        "outputId": "b7c93022-f79f-498a-f2fa-beb99d1896b9",
        "colab": {
          "base_uri": "https://localhost:8080/",
          "height": 1000
        }
      },
      "source": [
        "# Fit with data augmentation\n",
        "batch_size = 32\n",
        "data_generator = tf.keras.preprocessing.image.ImageDataGenerator(width_shift_range=0.1, height_shift_range=0.1, horizontal_flip=True)\n",
        "train_generator = data_generator.flow(x_train, y_train, batch_size)\n",
        "steps_per_epoch = x_train.shape[0] // batch_size\n",
        "r = model.fit(train_generator, validation_data=(x_test, y_test), steps_per_epoch=steps_per_epoch, epochs=50)"
      ],
      "execution_count": 11,
      "outputs": [
        {
          "output_type": "stream",
          "text": [
            "Epoch 1/50\n",
            "1562/1562 [==============================] - 47s 30ms/step - loss: 1.1240 - accuracy: 0.6037 - val_loss: 1.0046 - val_accuracy: 0.6478\n",
            "Epoch 2/50\n",
            "1562/1562 [==============================] - 46s 30ms/step - loss: 0.9048 - accuracy: 0.6860 - val_loss: 0.8782 - val_accuracy: 0.7010\n",
            "Epoch 3/50\n",
            "1562/1562 [==============================] - 46s 29ms/step - loss: 0.7935 - accuracy: 0.7294 - val_loss: 0.9291 - val_accuracy: 0.6853\n",
            "Epoch 4/50\n",
            "1562/1562 [==============================] - 46s 29ms/step - loss: 0.7172 - accuracy: 0.7546 - val_loss: 0.6578 - val_accuracy: 0.7786\n",
            "Epoch 5/50\n",
            "1562/1562 [==============================] - 46s 29ms/step - loss: 0.6549 - accuracy: 0.7773 - val_loss: 0.6452 - val_accuracy: 0.7815\n",
            "Epoch 6/50\n",
            "1562/1562 [==============================] - 46s 29ms/step - loss: 0.6145 - accuracy: 0.7899 - val_loss: 0.6335 - val_accuracy: 0.7862\n",
            "Epoch 7/50\n",
            "1562/1562 [==============================] - 46s 29ms/step - loss: 0.5780 - accuracy: 0.8041 - val_loss: 0.5973 - val_accuracy: 0.8066\n",
            "Epoch 8/50\n",
            "1562/1562 [==============================] - 46s 30ms/step - loss: 0.5472 - accuracy: 0.8158 - val_loss: 0.5399 - val_accuracy: 0.8175\n",
            "Epoch 9/50\n",
            "1562/1562 [==============================] - 47s 30ms/step - loss: 0.5134 - accuracy: 0.8252 - val_loss: 0.5484 - val_accuracy: 0.8193\n",
            "Epoch 10/50\n",
            "1562/1562 [==============================] - 48s 30ms/step - loss: 0.4907 - accuracy: 0.8328 - val_loss: 0.5708 - val_accuracy: 0.8066\n",
            "Epoch 11/50\n",
            "1562/1562 [==============================] - 47s 30ms/step - loss: 0.4618 - accuracy: 0.8423 - val_loss: 0.5322 - val_accuracy: 0.8260\n",
            "Epoch 12/50\n",
            "1562/1562 [==============================] - 47s 30ms/step - loss: 0.4378 - accuracy: 0.8492 - val_loss: 0.5470 - val_accuracy: 0.8279\n",
            "Epoch 13/50\n",
            "1562/1562 [==============================] - 47s 30ms/step - loss: 0.4250 - accuracy: 0.8549 - val_loss: 0.5428 - val_accuracy: 0.8221\n",
            "Epoch 14/50\n",
            "1562/1562 [==============================] - 47s 30ms/step - loss: 0.4060 - accuracy: 0.8630 - val_loss: 0.6269 - val_accuracy: 0.8006\n",
            "Epoch 15/50\n",
            "1562/1562 [==============================] - 47s 30ms/step - loss: 0.3877 - accuracy: 0.8671 - val_loss: 0.4383 - val_accuracy: 0.8551\n",
            "Epoch 16/50\n",
            "1562/1562 [==============================] - 47s 30ms/step - loss: 0.3730 - accuracy: 0.8716 - val_loss: 0.4452 - val_accuracy: 0.8530\n",
            "Epoch 17/50\n",
            "1562/1562 [==============================] - 47s 30ms/step - loss: 0.3602 - accuracy: 0.8754 - val_loss: 0.5492 - val_accuracy: 0.8286\n",
            "Epoch 18/50\n",
            "1562/1562 [==============================] - 47s 30ms/step - loss: 0.3484 - accuracy: 0.8783 - val_loss: 0.4361 - val_accuracy: 0.8622\n",
            "Epoch 19/50\n",
            "1562/1562 [==============================] - 47s 30ms/step - loss: 0.3410 - accuracy: 0.8829 - val_loss: 0.4415 - val_accuracy: 0.8603\n",
            "Epoch 20/50\n",
            "1562/1562 [==============================] - 47s 30ms/step - loss: 0.3248 - accuracy: 0.8871 - val_loss: 0.3837 - val_accuracy: 0.8694\n",
            "Epoch 21/50\n",
            "1562/1562 [==============================] - 47s 30ms/step - loss: 0.3132 - accuracy: 0.8913 - val_loss: 0.4807 - val_accuracy: 0.8462\n",
            "Epoch 22/50\n",
            "1562/1562 [==============================] - 47s 30ms/step - loss: 0.3097 - accuracy: 0.8937 - val_loss: 0.4272 - val_accuracy: 0.8627\n",
            "Epoch 23/50\n",
            "1562/1562 [==============================] - 47s 30ms/step - loss: 0.3044 - accuracy: 0.8966 - val_loss: 0.4554 - val_accuracy: 0.8587\n",
            "Epoch 24/50\n",
            "1562/1562 [==============================] - 47s 30ms/step - loss: 0.2922 - accuracy: 0.9003 - val_loss: 0.4188 - val_accuracy: 0.8602\n",
            "Epoch 25/50\n",
            "1562/1562 [==============================] - 46s 29ms/step - loss: 0.2873 - accuracy: 0.9016 - val_loss: 0.4117 - val_accuracy: 0.8662\n",
            "Epoch 26/50\n",
            "1562/1562 [==============================] - 45s 29ms/step - loss: 0.2805 - accuracy: 0.9018 - val_loss: 0.4017 - val_accuracy: 0.8699\n",
            "Epoch 27/50\n",
            "1562/1562 [==============================] - 46s 29ms/step - loss: 0.2699 - accuracy: 0.9070 - val_loss: 0.4220 - val_accuracy: 0.8654\n",
            "Epoch 28/50\n",
            "1562/1562 [==============================] - 46s 29ms/step - loss: 0.2644 - accuracy: 0.9091 - val_loss: 0.3977 - val_accuracy: 0.8689\n",
            "Epoch 29/50\n",
            "1562/1562 [==============================] - 46s 29ms/step - loss: 0.2630 - accuracy: 0.9082 - val_loss: 0.4067 - val_accuracy: 0.8707\n",
            "Epoch 30/50\n",
            "1562/1562 [==============================] - 46s 29ms/step - loss: 0.2579 - accuracy: 0.9097 - val_loss: 0.4192 - val_accuracy: 0.8680\n",
            "Epoch 31/50\n",
            "1562/1562 [==============================] - 46s 29ms/step - loss: 0.2501 - accuracy: 0.9129 - val_loss: 0.4021 - val_accuracy: 0.8747\n",
            "Epoch 32/50\n",
            "1562/1562 [==============================] - 46s 29ms/step - loss: 0.2431 - accuracy: 0.9157 - val_loss: 0.4109 - val_accuracy: 0.8744\n",
            "Epoch 33/50\n",
            "1562/1562 [==============================] - 46s 29ms/step - loss: 0.2338 - accuracy: 0.9183 - val_loss: 0.3868 - val_accuracy: 0.8793\n",
            "Epoch 34/50\n",
            "1562/1562 [==============================] - 46s 30ms/step - loss: 0.2309 - accuracy: 0.9211 - val_loss: 0.4312 - val_accuracy: 0.8710\n",
            "Epoch 35/50\n",
            "1562/1562 [==============================] - 46s 29ms/step - loss: 0.2304 - accuracy: 0.9204 - val_loss: 0.4283 - val_accuracy: 0.8701\n",
            "Epoch 36/50\n",
            "1562/1562 [==============================] - 45s 29ms/step - loss: 0.2245 - accuracy: 0.9222 - val_loss: 0.4115 - val_accuracy: 0.8774\n",
            "Epoch 37/50\n",
            "1562/1562 [==============================] - 46s 29ms/step - loss: 0.2177 - accuracy: 0.9243 - val_loss: 0.4195 - val_accuracy: 0.8742\n",
            "Epoch 38/50\n",
            "1562/1562 [==============================] - 46s 29ms/step - loss: 0.2229 - accuracy: 0.9234 - val_loss: 0.4679 - val_accuracy: 0.8729\n",
            "Epoch 39/50\n",
            "1562/1562 [==============================] - 46s 30ms/step - loss: 0.2135 - accuracy: 0.9260 - val_loss: 0.4213 - val_accuracy: 0.8737\n",
            "Epoch 40/50\n",
            "1562/1562 [==============================] - 46s 29ms/step - loss: 0.2095 - accuracy: 0.9277 - val_loss: 0.4225 - val_accuracy: 0.8705\n",
            "Epoch 41/50\n",
            "1562/1562 [==============================] - 47s 30ms/step - loss: 0.2092 - accuracy: 0.9276 - val_loss: 0.4069 - val_accuracy: 0.8719\n",
            "Epoch 42/50\n",
            "1562/1562 [==============================] - 46s 29ms/step - loss: 0.2032 - accuracy: 0.9298 - val_loss: 0.3939 - val_accuracy: 0.8793\n",
            "Epoch 43/50\n",
            "1562/1562 [==============================] - 46s 29ms/step - loss: 0.1988 - accuracy: 0.9319 - val_loss: 0.3928 - val_accuracy: 0.8812\n",
            "Epoch 44/50\n",
            "1562/1562 [==============================] - 46s 29ms/step - loss: 0.1947 - accuracy: 0.9327 - val_loss: 0.4117 - val_accuracy: 0.8772\n",
            "Epoch 45/50\n",
            "1562/1562 [==============================] - 46s 29ms/step - loss: 0.1949 - accuracy: 0.9313 - val_loss: 0.4545 - val_accuracy: 0.8742\n",
            "Epoch 46/50\n",
            "1562/1562 [==============================] - 46s 29ms/step - loss: 0.1910 - accuracy: 0.9337 - val_loss: 0.4857 - val_accuracy: 0.8686\n",
            "Epoch 47/50\n",
            "1562/1562 [==============================] - 46s 29ms/step - loss: 0.1890 - accuracy: 0.9344 - val_loss: 0.4053 - val_accuracy: 0.8811\n",
            "Epoch 48/50\n",
            "1562/1562 [==============================] - 47s 30ms/step - loss: 0.1851 - accuracy: 0.9371 - val_loss: 0.4153 - val_accuracy: 0.8765\n",
            "Epoch 49/50\n",
            "1562/1562 [==============================] - 46s 29ms/step - loss: 0.1862 - accuracy: 0.9357 - val_loss: 0.3729 - val_accuracy: 0.8862\n",
            "Epoch 50/50\n",
            "1562/1562 [==============================] - 46s 30ms/step - loss: 0.1798 - accuracy: 0.9382 - val_loss: 0.4109 - val_accuracy: 0.8799\n"
          ],
          "name": "stdout"
        }
      ]
    },
    {
      "cell_type": "code",
      "metadata": {
        "id": "fjegO89UzJVA",
        "colab_type": "code",
        "colab": {
          "base_uri": "https://localhost:8080/",
          "height": 282
        },
        "outputId": "67f0d6fd-6c66-4e29-9d5b-8427b4f333bc"
      },
      "source": [
        "import matplotlib.pyplot as plt\n",
        "plt.plot(r.history['loss'], label='loss')\n",
        "plt.plot(r.history['val_loss'], label='val_loss')\n",
        "plt.legend()"
      ],
      "execution_count": 12,
      "outputs": [
        {
          "output_type": "execute_result",
          "data": {
            "text/plain": [
              "<matplotlib.legend.Legend at 0x7fe885678240>"
            ]
          },
          "metadata": {
            "tags": []
          },
          "execution_count": 12
        },
        {
          "output_type": "display_data",
          "data": {
            "image/png": "[encoded data removed]",
            "text/plain": [
              "<Figure size 432x288 with 1 Axes>"
            ]
          },
          "metadata": {
            "tags": [],
            "needs_background": "light"
          }
        }
      ]
    },
    {
      "cell_type": "code",
      "metadata": {
        "id": "k9vk3LhDzJTf",
        "colab_type": "code",
        "colab": {
          "base_uri": "https://localhost:8080/",
          "height": 283
        },
        "outputId": "84fc808a-7c7e-4657-a895-68be8e4d55f0"
      },
      "source": [
        "plt.plot(r.history['accuracy'], label='acc')\n",
        "plt.plot(r.history['val_accuracy'], label='val_acc')\n",
        "plt.legend()"
      ],
      "execution_count": 13,
      "outputs": [
        {
          "output_type": "execute_result",
          "data": {
            "text/plain": [
              "<matplotlib.legend.Legend at 0x7fe8d0020a90>"
            ]
          },
          "metadata": {
            "tags": []
          },
          "execution_count": 13
        },
        {
          "output_type": "display_data",
          "data": {
            "image/png": "[encoded data removed]",
            "text/plain": [
              "<Figure size 432x288 with 1 Axes>"
            ]
          },
          "metadata": {
            "tags": [],
            "needs_background": "light"
          }
        }
      ]
    }
  ]
}